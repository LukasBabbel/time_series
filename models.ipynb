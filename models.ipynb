{
 "cells": [
  {
   "cell_type": "code",
   "execution_count": 9,
   "metadata": {
    "collapsed": true
   },
   "outputs": [],
   "source": [
    "%matplotlib inline\n",
    "import numpy as np\n",
    "import pandas as pd\n",
    "import matplotlib.pyplot as plt\n",
    "import seaborn"
   ]
  },
  {
   "cell_type": "code",
   "execution_count": 126,
   "metadata": {
    "collapsed": false
   },
   "outputs": [],
   "source": [
    "class ARMA:\n",
    "    def __init__(self,data):\n",
    "        self.mean = data.mean()\n",
    "        self.data = data - self.mean\n",
    "    \n",
    "    def sample_autocovariance_function(self,lag):\n",
    "        self.data = np.array(self.data)\n",
    "        lag = abs(lag)\n",
    "        n = len(self.data)\n",
    "        if lag >= n:\n",
    "            raise ValueError('lag out of range')\n",
    "        return (1.0/n)*sum(self.data[-(n-lag):]*self.data[:n-lag])\n",
    "\n",
    "    def sample_autococorrelation_function(self,lag):\n",
    "        return self.sample_autocovariance_function(lag)/self.sample_autocovariance_function(0)\n",
    "\n",
    "    def sample_covariance_matrix(self,k):\n",
    "        row = []\n",
    "        for l in range(k):\n",
    "            row.append(self.sample_autocovariance_function(l))\n",
    "        matrix = []\n",
    "        for l in range(k):\n",
    "            matrix.append(row[1:1+l][::-1]+row[:k-l])\n",
    "        return np.matrix(matrix)\n",
    "\n",
    "    def partial_autocorrelation_function(self,k):\n",
    "        if k==0:\n",
    "            return 1\n",
    "        Gamma_k = self.sample_covariance_matrix(k)\n",
    "        gamma_k = np.matrix([self.sample_autococorrelation_function(l) for l in range(1,k+1)]).T\n",
    "        return (np.linalg.inv(Gamma_k)*gamma_k).item((k-1,0))\n",
    "\n",
    "    def plot_ACF(self,limit=None):\n",
    "        if not limit:\n",
    "            limit=len(self.data)\n",
    "        AC = []\n",
    "        for lag in range(1,limit):\n",
    "            AC.append(self.sample_autococorrelation_function(lag))\n",
    "        plt.bar(list(range(1,limit)),AC)\n",
    "        plt.axhline(1.96/np.sqrt(len(self.data)), linestyle='--',alpha=0.6)\n",
    "        plt.axhline(-1.96/np.sqrt(len(self.data)), linestyle='--',alpha=0.6)\n",
    "        plt.xlabel('lag')\n",
    "        plt.ylabel('ACF')\n",
    "        \n",
    "    def fit_ar(self,p):\n",
    "        Gamma = self.sample_covariance_matrix(p)\n",
    "        gamma = np.matrix([self.sample_autocovariance_function(l) for l in range(1,p+1)]).T\n",
    "        self.coefs = np.linalg.inv(Gamma)*gamma"
   ]
  },
  {
   "cell_type": "code",
   "execution_count": 302,
   "metadata": {
    "collapsed": true
   },
   "outputs": [],
   "source": [
    "def simulate_arma(phi=[],theta=[],simulations=100):\n",
    "    phi = phi\n",
    "    theta = [1] + theta\n",
    "    Z = [np.random.normal() for k in range(simulations+len(phi)+len(theta))]\n",
    "    X = []\n",
    "    for k in range(len(phi)):\n",
    "        X.append(sum(a*b for a,b in zip(theta,Z[k:k+len(theta)])))\n",
    "    for k in range(len(phi),simulations+len(phi)):\n",
    "        X.append(sum(a*b for a,b in zip(theta,Z[k:k+len(theta)]))+sum(-a*b for a,b in zip(phi,X[::-1][:len(phi)])))\n",
    "    return np.array(X[len(phi):])"
   ]
  },
  {
   "cell_type": "code",
   "execution_count": 170,
   "metadata": {
    "collapsed": false
   },
   "outputs": [
    {
     "data": {
      "text/plain": [
       "1.8028575524921893"
      ]
     },
     "execution_count": 170,
     "metadata": {},
     "output_type": "execute_result"
    }
   ],
   "source": [
    "k=50\n",
    "sum(-a*b for a,b in zip(phi,X[k-len(phi):k]))"
   ]
  },
  {
   "cell_type": "code",
   "execution_count": 171,
   "metadata": {
    "collapsed": false
   },
   "outputs": [
    {
     "data": {
      "text/plain": [
       "[(1, -1.6582529891565407), (0.9, -0.16067173703960957)]"
      ]
     },
     "execution_count": 171,
     "metadata": {},
     "output_type": "execute_result"
    }
   ],
   "source": [
    "list(zip(phi,X[k-len(phi):k]))"
   ]
  },
  {
   "cell_type": "code",
   "execution_count": 307,
   "metadata": {
    "collapsed": false
   },
   "outputs": [
    {
     "data": {
      "text/plain": [
       "[4, 3]"
      ]
     },
     "execution_count": 307,
     "metadata": {},
     "output_type": "execute_result"
    }
   ],
   "source": [
    "[0,1,2,3,4][::-1][:2]"
   ]
  },
  {
   "cell_type": "code",
   "execution_count": 144,
   "metadata": {
    "collapsed": true
   },
   "outputs": [],
   "source": [
    "X = []\n",
    "for k in range(simulations+len(phi)):\n",
    "    X.append(sum(a*b for a,b in zip(theta,Z[k:k+len(theta)])))"
   ]
  },
  {
   "cell_type": "code",
   "execution_count": 145,
   "metadata": {
    "collapsed": false
   },
   "outputs": [
    {
     "data": {
      "text/plain": [
       "101"
      ]
     },
     "execution_count": 145,
     "metadata": {},
     "output_type": "execute_result"
    }
   ],
   "source": [
    "len(X)"
   ]
  },
  {
   "cell_type": "code",
   "execution_count": 317,
   "metadata": {
    "collapsed": false
   },
   "outputs": [
    {
     "data": {
      "text/plain": [
       "[<matplotlib.lines.Line2D at 0x1208ddeb8>]"
      ]
     },
     "execution_count": 317,
     "metadata": {},
     "output_type": "execute_result"
    },
    {
     "data": {
      "image/png": "[encoded data removed]",
      "text/plain": [
       "<matplotlib.figure.Figure at 0x11f7d0128>"
      ]
     },
     "metadata": {},
     "output_type": "display_data"
    }
   ],
   "source": [
    "example1 = simulate_arma(phi=[-0.9,0.5],simulations=200)\n",
    "plt.plot(example1)"
   ]
  },
  {
   "cell_type": "code",
   "execution_count": 303,
   "metadata": {
    "collapsed": false
   },
   "outputs": [
    {
     "data": {
      "image/png": "[encoded data removed]",
      "text/plain": [
       "<matplotlib.figure.Figure at 0x11c66c3c8>"
      ]
     },
     "metadata": {},
     "output_type": "display_data"
    }
   ],
   "source": [
    "ARMA(simulate_arma(phi=[-0.9],simulations=10000)).plot_ACF(limit=10)"
   ]
  },
  {
   "cell_type": "code",
   "execution_count": 329,
   "metadata": {
    "collapsed": false
   },
   "outputs": [],
   "source": [
    "example1 = simulate_arma(phi=[-0.9,0.5],simulations=100000)\n",
    "model1 = ARMA(example1)"
   ]
  },
  {
   "cell_type": "code",
   "execution_count": 324,
   "metadata": {
    "collapsed": false
   },
   "outputs": [
    {
     "data": {
      "image/png": "[encoded data removed]",
      "text/plain": [
       "<matplotlib.figure.Figure at 0x1208f60f0>"
      ]
     },
     "metadata": {},
     "output_type": "display_data"
    }
   ],
   "source": [
    "model1.plot_ACF(limit=10)"
   ]
  },
  {
   "cell_type": "code",
   "execution_count": 334,
   "metadata": {
    "collapsed": false
   },
   "outputs": [],
   "source": [
    "model1.fit_ar(300)"
   ]
  },
  {
   "cell_type": "code",
   "execution_count": 335,
   "metadata": {
    "collapsed": false
   },
   "outputs": [
    {
     "data": {
      "text/plain": [
       "matrix([[  9.00202570e-01],\n",
       "        [ -5.09808123e-01],\n",
       "        [  7.77379264e-03],\n",
       "        [ -1.57102291e-03],\n",
       "        [ -4.11523973e-03],\n",
       "        [ -1.14135565e-04],\n",
       "        [ -1.20084968e-03],\n",
       "        [  5.97244239e-03],\n",
       "        [ -1.10023167e-02],\n",
       "        [  9.09986264e-03],\n",
       "        [ -1.36721564e-03],\n",
       "        [ -5.48211766e-03],\n",
       "        [  5.65671723e-03],\n",
       "        [  4.02505341e-04],\n",
       "        [ -1.88285036e-03],\n",
       "        [  2.63348928e-03],\n",
       "        [ -1.32942261e-03],\n",
       "        [  7.32076125e-03],\n",
       "        [ -9.82772778e-03],\n",
       "        [  1.13346123e-02],\n",
       "        [ -1.22677493e-02],\n",
       "        [  8.39559655e-03],\n",
       "        [  1.54936932e-03],\n",
       "        [ -5.72269163e-03],\n",
       "        [  2.63143232e-03],\n",
       "        [  1.84315554e-03],\n",
       "        [ -3.83957485e-03],\n",
       "        [  1.17752089e-03],\n",
       "        [  3.59960094e-03],\n",
       "        [ -8.29816894e-03],\n",
       "        [  1.34475304e-02],\n",
       "        [ -6.88579283e-03],\n",
       "        [  5.13385163e-03],\n",
       "        [ -3.20715338e-03],\n",
       "        [  1.28218205e-03],\n",
       "        [ -8.73251936e-05],\n",
       "        [ -7.03120423e-04],\n",
       "        [  3.24266876e-03],\n",
       "        [ -3.50240599e-03],\n",
       "        [ -4.21395445e-05],\n",
       "        [  2.20684940e-03],\n",
       "        [ -4.23720039e-03],\n",
       "        [  3.49452933e-03],\n",
       "        [ -8.70921344e-04],\n",
       "        [ -1.68656964e-05],\n",
       "        [ -3.74750008e-03],\n",
       "        [  3.71047233e-04],\n",
       "        [  5.32951008e-03],\n",
       "        [ -5.83731158e-03],\n",
       "        [ -7.88366125e-04],\n",
       "        [  3.02141302e-04],\n",
       "        [ -5.78307900e-03],\n",
       "        [  5.34294729e-04],\n",
       "        [ -3.55545293e-04],\n",
       "        [ -4.57509168e-03],\n",
       "        [  1.12145843e-03],\n",
       "        [ -4.12745720e-03],\n",
       "        [  6.88629790e-05],\n",
       "        [ -2.47142860e-03],\n",
       "        [ -2.94613565e-03],\n",
       "        [ -1.40577786e-03],\n",
       "        [ -1.48459960e-03],\n",
       "        [ -1.20400639e-03],\n",
       "        [  2.77226888e-03],\n",
       "        [ -3.31491399e-03],\n",
       "        [ -2.13602786e-03],\n",
       "        [ -2.94758130e-03],\n",
       "        [ -7.69173288e-04],\n",
       "        [ -1.36021488e-03],\n",
       "        [ -8.79009870e-04],\n",
       "        [ -6.28626577e-03],\n",
       "        [  3.25286028e-03],\n",
       "        [ -1.53848873e-03],\n",
       "        [ -9.65615084e-04],\n",
       "        [ -4.68457244e-04],\n",
       "        [  8.11607125e-03],\n",
       "        [ -8.40243997e-03],\n",
       "        [  4.45160137e-03],\n",
       "        [  1.40406974e-03],\n",
       "        [  2.19546634e-03],\n",
       "        [ -1.10837840e-02],\n",
       "        [  1.26285604e-02],\n",
       "        [ -4.97080399e-03],\n",
       "        [ -2.77394538e-03],\n",
       "        [  5.78849478e-03],\n",
       "        [ -1.12102008e-02],\n",
       "        [  1.04395070e-02],\n",
       "        [ -8.39847148e-03],\n",
       "        [  1.97445929e-03],\n",
       "        [ -4.62206130e-03],\n",
       "        [  3.78879266e-03],\n",
       "        [ -6.29477706e-03],\n",
       "        [  4.93009428e-03],\n",
       "        [ -3.55613305e-03],\n",
       "        [  9.81811109e-04],\n",
       "        [  6.64876666e-03],\n",
       "        [ -2.10301399e-03],\n",
       "        [  2.93537277e-04],\n",
       "        [  3.20418039e-03],\n",
       "        [ -3.61405463e-03],\n",
       "        [  2.45699060e-03],\n",
       "        [ -8.08418007e-04],\n",
       "        [  7.09396658e-04],\n",
       "        [  7.55936532e-04],\n",
       "        [ -1.01728696e-03],\n",
       "        [  5.31572260e-03],\n",
       "        [  8.72889556e-04],\n",
       "        [  2.45616410e-03],\n",
       "        [ -2.86042290e-03],\n",
       "        [  1.04812659e-03],\n",
       "        [ -6.99028228e-04],\n",
       "        [  4.92719350e-04],\n",
       "        [ -2.61573612e-03],\n",
       "        [  2.37706603e-03],\n",
       "        [ -1.41498583e-03],\n",
       "        [ -4.68081196e-04],\n",
       "        [ -3.75171643e-03],\n",
       "        [  3.54285998e-03],\n",
       "        [  8.90018427e-04],\n",
       "        [ -1.12643500e-03],\n",
       "        [ -3.09887869e-03],\n",
       "        [ -5.11715234e-03],\n",
       "        [  5.53371190e-03],\n",
       "        [ -2.10433592e-03],\n",
       "        [ -2.08918997e-03],\n",
       "        [ -3.38252720e-03],\n",
       "        [  8.30062213e-03],\n",
       "        [ -8.13160263e-04],\n",
       "        [  2.53138104e-03],\n",
       "        [ -1.62307433e-04],\n",
       "        [  2.67343794e-03],\n",
       "        [ -2.30854570e-03],\n",
       "        [  1.63831295e-03],\n",
       "        [  2.95390067e-03],\n",
       "        [ -8.60676837e-03],\n",
       "        [  1.02991864e-03],\n",
       "        [  1.25709358e-03],\n",
       "        [  1.57696237e-04],\n",
       "        [ -1.41262821e-03],\n",
       "        [ -2.92471700e-03],\n",
       "        [  6.97924576e-03],\n",
       "        [ -1.87221542e-03],\n",
       "        [ -1.19903644e-03],\n",
       "        [  5.24201555e-03],\n",
       "        [ -2.86111513e-03],\n",
       "        [  5.38290299e-03],\n",
       "        [ -8.18802049e-04],\n",
       "        [  4.46164144e-03],\n",
       "        [ -4.31792129e-03],\n",
       "        [  4.57134098e-03],\n",
       "        [ -5.60280269e-04],\n",
       "        [  1.94793012e-03],\n",
       "        [  2.11923570e-03],\n",
       "        [ -3.97882211e-03],\n",
       "        [  6.20939010e-03],\n",
       "        [ -2.15347497e-03],\n",
       "        [ -3.89117990e-04],\n",
       "        [  7.22430798e-03],\n",
       "        [ -1.75506410e-03],\n",
       "        [  2.21850401e-03],\n",
       "        [  6.34768720e-03],\n",
       "        [ -6.26457604e-03],\n",
       "        [  5.29303197e-03],\n",
       "        [ -5.61131388e-03],\n",
       "        [  1.05656558e-02],\n",
       "        [ -9.54403856e-03],\n",
       "        [ -3.27915462e-03],\n",
       "        [  3.66875421e-03],\n",
       "        [ -5.28377495e-03],\n",
       "        [  5.96875507e-03],\n",
       "        [ -5.54036146e-03],\n",
       "        [  4.06563765e-03],\n",
       "        [ -2.00321165e-03],\n",
       "        [ -3.70771074e-03],\n",
       "        [  5.45333992e-03],\n",
       "        [ -4.95996876e-03],\n",
       "        [ -1.78310534e-03],\n",
       "        [  7.05843118e-04],\n",
       "        [ -7.58206559e-03],\n",
       "        [  1.04766163e-02],\n",
       "        [ -1.15537100e-02],\n",
       "        [  5.74735242e-03],\n",
       "        [  4.76920901e-03],\n",
       "        [ -4.11924495e-03],\n",
       "        [ -9.04294245e-04],\n",
       "        [  9.98176104e-04],\n",
       "        [  4.88318136e-03],\n",
       "        [ -5.36059062e-03],\n",
       "        [  7.70989732e-03],\n",
       "        [ -2.57453731e-03],\n",
       "        [  8.20840032e-04],\n",
       "        [ -2.60513923e-03],\n",
       "        [  4.15159046e-03],\n",
       "        [ -2.93163468e-03],\n",
       "        [ -9.57982667e-04],\n",
       "        [ -3.57337579e-03],\n",
       "        [ -4.39711200e-04],\n",
       "        [  1.27812876e-03],\n",
       "        [ -1.43240581e-03],\n",
       "        [ -4.79829635e-04],\n",
       "        [ -1.89989420e-03],\n",
       "        [  5.59244391e-03],\n",
       "        [ -6.10449760e-03],\n",
       "        [  3.58599300e-03],\n",
       "        [  3.57816758e-04],\n",
       "        [ -8.26215438e-04],\n",
       "        [  1.09315002e-03],\n",
       "        [  7.64157909e-04],\n",
       "        [  2.84409462e-03],\n",
       "        [ -7.97720759e-04],\n",
       "        [  2.53617566e-03],\n",
       "        [ -7.01246906e-03],\n",
       "        [  6.89901318e-03],\n",
       "        [ -4.89735003e-03],\n",
       "        [  5.08363557e-03],\n",
       "        [ -4.65165603e-03],\n",
       "        [  3.14380134e-03],\n",
       "        [  4.73589041e-03],\n",
       "        [ -1.24846408e-03],\n",
       "        [ -1.10015357e-04],\n",
       "        [  1.31180823e-03],\n",
       "        [  3.54873570e-03],\n",
       "        [ -5.98013327e-03],\n",
       "        [ -2.17695283e-03],\n",
       "        [  3.32466821e-03],\n",
       "        [  2.62236387e-03],\n",
       "        [ -5.50163087e-03],\n",
       "        [  3.43164926e-03],\n",
       "        [ -7.39771373e-04],\n",
       "        [  4.18408022e-03],\n",
       "        [ -3.78152748e-03],\n",
       "        [  3.58895646e-03],\n",
       "        [ -1.44772543e-03],\n",
       "        [ -2.16767572e-03],\n",
       "        [ -5.98282222e-03],\n",
       "        [  9.67295993e-03],\n",
       "        [ -9.73309068e-03],\n",
       "        [  6.57070926e-03],\n",
       "        [ -3.56328889e-03],\n",
       "        [  4.39148409e-03],\n",
       "        [ -3.25768269e-03],\n",
       "        [  1.36162932e-03],\n",
       "        [  3.73555089e-03],\n",
       "        [  4.07133518e-03],\n",
       "        [ -5.79618593e-03],\n",
       "        [ -1.42312799e-04],\n",
       "        [  6.68148086e-03],\n",
       "        [ -1.20696677e-03],\n",
       "        [  2.62360757e-03],\n",
       "        [  1.36785014e-04],\n",
       "        [ -4.28034682e-04],\n",
       "        [  1.13422303e-02],\n",
       "        [ -5.05617705e-03],\n",
       "        [ -6.88374900e-04],\n",
       "        [  1.00922761e-02],\n",
       "        [ -1.15445261e-02],\n",
       "        [  2.47180684e-03],\n",
       "        [ -1.62775471e-03],\n",
       "        [  6.93911884e-03],\n",
       "        [ -7.46606382e-03],\n",
       "        [  1.91356919e-03],\n",
       "        [  8.16228880e-04],\n",
       "        [ -3.52901719e-03],\n",
       "        [  4.48832871e-04],\n",
       "        [  4.74803377e-03],\n",
       "        [ -2.96316991e-03],\n",
       "        [ -2.81604670e-03],\n",
       "        [  1.78648856e-03],\n",
       "        [ -5.63535212e-03],\n",
       "        [  6.80179386e-03],\n",
       "        [ -7.90257002e-04],\n",
       "        [ -4.82422664e-04],\n",
       "        [ -2.58426428e-03],\n",
       "        [  4.65006606e-03],\n",
       "        [ -1.96847091e-03],\n",
       "        [  1.18195282e-03],\n",
       "        [ -4.40048727e-03],\n",
       "        [  4.21352877e-03],\n",
       "        [  3.78816404e-03],\n",
       "        [ -5.84580029e-03],\n",
       "        [  5.38065964e-03],\n",
       "        [  1.64112100e-04],\n",
       "        [ -4.07380500e-03],\n",
       "        [  2.31171664e-03],\n",
       "        [  3.46544776e-03],\n",
       "        [ -4.53294895e-03],\n",
       "        [  3.38338896e-03],\n",
       "        [  6.99708361e-04],\n",
       "        [ -2.74994192e-03],\n",
       "        [  1.09458479e-02],\n",
       "        [ -1.00835322e-02],\n",
       "        [  6.56115366e-03],\n",
       "        [ -2.50754677e-03],\n",
       "        [  7.39786663e-04],\n",
       "        [  4.39897267e-03],\n",
       "        [ -8.17322866e-04],\n",
       "        [  2.72846928e-03],\n",
       "        [ -6.44613189e-03],\n",
       "        [  7.41029963e-03],\n",
       "        [  7.65425390e-04]])"
      ]
     },
     "execution_count": 335,
     "metadata": {},
     "output_type": "execute_result"
    }
   ],
   "source": [
    "model1.coefs"
   ]
  },
  {
   "cell_type": "code",
   "execution_count": 297,
   "metadata": {
    "collapsed": false
   },
   "outputs": [
    {
     "data": {
      "text/plain": [
       "0.89972459833170737"
      ]
     },
     "execution_count": 297,
     "metadata": {},
     "output_type": "execute_result"
    }
   ],
   "source": [
    "model1.sample_autococorrelation_function(1)"
   ]
  }
 ],
 "metadata": {
  "kernelspec": {
   "display_name": "Python 3",
   "language": "python",
   "name": "python3"
  },
  "language_info": {
   "codemirror_mode": {
    "name": "ipython",
    "version": 3
   },
   "file_extension": ".py",
   "mimetype": "text/x-python",
   "name": "python",
   "nbconvert_exporter": "python",
   "pygments_lexer": "ipython3",
   "version": "3.4.3"
  }
 },
 "nbformat": 4,
 "nbformat_minor": 0
}
